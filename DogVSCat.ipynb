{
 "cells": [
  {
   "cell_type": "markdown",
   "metadata": {},
   "source": [
    "# 1. 引用项目所需要的包"
   ]
  },
  {
   "cell_type": "code",
   "execution_count": 5,
   "metadata": {},
   "outputs": [],
   "source": [
    "#!/usr/bin/python3.5  \n",
    "# -*- coding: utf-8 -*-  \n",
    "import os\n",
    "import shutil\n",
    "import time\n",
    "import sys\n",
    "import math\n",
    "\n",
    "import numpy as np\n",
    "import matplotlib.pyplot as plt\n",
    "import matplotlib.image as mpimg # mpimg 用于读取图片\n",
    "import PIL\n",
    "\n",
    "from keras.models import Model, load_model\n",
    "from keras.layers import Dense, GlobalAveragePooling2D\n",
    "from keras.preprocessing import image\n",
    "from keras.preprocessing.image import ImageDataGenerator\n",
    "\n",
    "from keras.applications.xception import Xception\n",
    "from keras.applications.xception import preprocess_input, decode_predictions\n",
    "\n",
    "from IPython.display import Image\n",
    "from IPython.core.display import HTML "
   ]
  },
  {
   "cell_type": "markdown",
   "metadata": {},
   "source": [
    "# 2. 数据集的处理\n",
    "## 2.1 数据集目录的处理\n",
    "由于训练集里的数据是放在一个目录下的，可以考虑图片分类放到相应的目录中，即文件名包含“cat”放到0目录下，文件名包含“dog”放到1目录下, 便于Keras的获取分类值。(注：Keras会根据train, validataion目录下的子目录名自动定义分类)"
   ]
  },
  {
   "cell_type": "code",
   "execution_count": 6,
   "metadata": {
    "collapsed": true
   },
   "outputs": [],
   "source": [
    "root_train_dir = \"train\"\n",
    "root_test_dir = \"test\"\n",
    "\n",
    "train_dir = \"new_train\"\n",
    "val_dir = \"val\"\n",
    "cat_train_dir = train_dir + \"/0\" # 0 is the lable for cat image\n",
    "cat_val_dir = val_dir + \"/0\"\n",
    "dog_train_dir = train_dir+\"/1\" # 1 is the lable for dog image\n",
    "dog_val_dir = val_dir + \"/1\"\n",
    "\n",
    "sample_size = 100      #include training sample and validation sample\n",
    "val_sample_size = 20  # sample size of validation data \n",
    "image_w, image_h = 299, 299  # the input impage size of width and heighth\n",
    "batch_size = 50\n",
    "nn_classes = 1  \n",
    "\n",
    "\n",
    "def create_train_dir(source_train_dir, new_train_dir, keyword_in_name, max_num=0, oper_type=0,):\n",
    "    '''\n",
    "     create a dir for train dataset\n",
    "         \n",
    "    '''       \n",
    "    if max_num > 0:\n",
    "        counter = 0     \n",
    "        if os.path.exists(new_train_dir): \n",
    "            shutil.rmtree(new_train_dir)\n",
    "\n",
    "        os.makedirs(new_train_dir)\n",
    "        \n",
    "        for root, dirs, files in os.walk(source_train_dir):\n",
    "            for afile in files:\n",
    "                if keyword_in_name in afile:\n",
    "                    sourcepath = source_train_dir + \"/\" + afile\n",
    "                    targetpath= new_train_dir + \"/\" + afile\n",
    "                    if oper_type==0: #copy file\n",
    "                        shutil.copyfile(sourcepath, targetpath)\n",
    "                    elif oper_type == 1: # move file\n",
    "                        shutil.move(sourcepath, targetpath)\n",
    "#                     print(\"counter is {0}, filename is {1}\".format(counter, afile))\n",
    "                    counter = counter + 1                \n",
    "                    if max_num > 0 :\n",
    "                        if counter >= max_num:\n",
    "                            print(\"Done\")\n",
    "                            return "
   ]
  },
  {
   "cell_type": "code",
   "execution_count": 7,
   "metadata": {},
   "outputs": [
    {
     "name": "stdout",
     "output_type": "stream",
     "text": [
      "Done\n",
      "Done\n",
      "Done\n",
      "Done\n"
     ]
    }
   ],
   "source": [
    "#Create the train and val sub diretories, train, each dir has 2 sub dirs which are 0(cat) & 1(dog)\n",
    "create_train_dir(root_train_dir, cat_train_dir, \"cat\",sample_size, 0)\n",
    "create_train_dir(cat_train_dir, cat_val_dir, \"cat\", val_sample_size, 1)\n",
    "create_train_dir(root_train_dir, dog_train_dir, \"dog\",sample_size, 0) \n",
    "create_train_dir(dog_train_dir, dog_val_dir, \"dog\", val_sample_size, 1)   "
   ]
  },
  {
   "cell_type": "markdown",
   "metadata": {},
   "source": [
    "# 使用base model来寻找潜在的Outlier\n",
    "find out all outliers in the train data set, and store their image id into a list."
   ]
  },
  {
   "cell_type": "code",
   "execution_count": 8,
   "metadata": {},
   "outputs": [
    {
     "name": "stdout",
     "output_type": "stream",
     "text": [
      "Buildup NN: 12.26901912689209\n"
     ]
    }
   ],
   "source": [
    "# create the base model with top\n",
    "start= time.time()\n",
    "base_model=Xception(weights='imagenet')\n",
    "end = time.time()\n",
    "print(\"Buildup NN:\", end-start)"
   ]
  },
  {
   "cell_type": "code",
   "execution_count": 9,
   "metadata": {
    "collapsed": true
   },
   "outputs": [],
   "source": [
    "# load the id of cat/dog images which specified in ImageNet from a text to a list \n",
    "def load_ImageNet_ids(filepath):\n",
    "    with open(filepath) as fp:\n",
    "        arr=[]\n",
    "        for line in fp.readlines():\n",
    "            arr.append(line.strip())\n",
    "    return arr\n"
   ]
  },
  {
   "cell_type": "code",
   "execution_count": 10,
   "metadata": {
    "collapsed": true
   },
   "outputs": [],
   "source": [
    "# tell if the target image id is in the Imagenet id list.\n",
    "def is_outlier(target_ids, imagenet_id_list):\n",
    "    for target_id in target_ids:\n",
    "        if target_id[0] in imagenet_id_list:\n",
    "#             print(target_id[1])\n",
    "            return False     \n",
    "    return True"
   ]
  },
  {
   "cell_type": "code",
   "execution_count": 11,
   "metadata": {
    "collapsed": true
   },
   "outputs": [],
   "source": [
    "# display the images withe specified image size.\n",
    "def visual_images(files, image_size):\n",
    "   \n",
    "    get_ipython().magic('matplotlib inline')\n",
    "    \n",
    "    images =[image.load_img(path, target_size =image_size) for path in files]\n",
    "    images = [image.img_to_array(img) for img in images]\n",
    "    images = np.array(images).astype(np.uint8)\n",
    "    \n",
    "    batches = math.ceil(len(images)*1.0/8)\n",
    "    \n",
    "    print(batches)\n",
    "    images = images[0:batches*8]\n",
    "    fig = plt.figure(figsize=(30,30))\n",
    "    for i in range(1, 8*batches+1 ):\n",
    "        if i-1 < len(files):\n",
    "            fig.add_subplot(batches, 8, i)\n",
    "            plt.xlabel(os.path.basename(files[i-1]))\n",
    "            plt.imshow(images[i-1])\n",
    "    plt.show()"
   ]
  },
  {
   "cell_type": "code",
   "execution_count": 12,
   "metadata": {
    "collapsed": true
   },
   "outputs": [],
   "source": [
    "# Load the id list of cat/dog from text file to a list\n",
    "imagenet_cat_ids = load_ImageNet_ids(\"cat.txt\")\n",
    "imagenet_dog_ids = load_ImageNet_ids(\"dog.txt\")"
   ]
  },
  {
   "cell_type": "code",
   "execution_count": 17,
   "metadata": {},
   "outputs": [
    {
     "ename": "TypeError",
     "evalue": "object of type 'NoneType' has no len()",
     "output_type": "error",
     "traceback": [
      "\u001b[1;31m---------------------------------------------------------------------------\u001b[0m",
      "\u001b[1;31mTypeError\u001b[0m                                 Traceback (most recent call last)",
      "\u001b[1;32m<ipython-input-17-e1c9b6214ec4>\u001b[0m in \u001b[0;36m<module>\u001b[1;34m()\u001b[0m\n\u001b[0;32m      2\u001b[0m \u001b[1;31m# print(\"{:>15} is:\\t{}\".format(\"he\", \"cat\"))\u001b[0m\u001b[1;33m\u001b[0m\u001b[1;33m\u001b[0m\u001b[0m\n\u001b[0;32m      3\u001b[0m \u001b[1;31m# print(\"{:>15} is:\\t{}\".format(\"hello\", \"dog\"))\u001b[0m\u001b[1;33m\u001b[0m\u001b[1;33m\u001b[0m\u001b[0m\n\u001b[1;32m----> 4\u001b[1;33m \u001b[0mprint\u001b[0m\u001b[1;33m(\u001b[0m\u001b[0mlen\u001b[0m\u001b[1;33m(\u001b[0m\u001b[0mcat_outliers\u001b[0m\u001b[1;33m)\u001b[0m\u001b[1;33m)\u001b[0m\u001b[1;33m\u001b[0m\u001b[0m\n\u001b[0m",
      "\u001b[1;31mTypeError\u001b[0m: object of type 'NoneType' has no len()"
     ]
    }
   ],
   "source": [
    "# x = len('hello')\n",
    "# print(\"{:>15} is:\\t{}\".format(\"he\", \"cat\"))\n",
    "# print(\"{:>15} is:\\t{}\".format(\"hello\", \"dog\"))\n",
    "print(len(cat_outliers))\n"
   ]
  },
  {
   "cell_type": "code",
   "execution_count": 19,
   "metadata": {},
   "outputs": [],
   "source": [
    "# pre process the input\n",
    "def find_outliers(data_dir, ids_in_imagenet, top):\n",
    "    outliers=[]\n",
    "    for (root, dir, files) in os.walk(data_dir):\n",
    "        for afile in files:\n",
    "\n",
    "            image_path = data_dir + \"/\" + afile\n",
    "            img = image.load_img(image_path, target_size=(image_w,image_h))\n",
    "            x = image.img_to_array(img)  \n",
    "            x = np.expand_dims(x, axis=0) # I am not clear why need to expand the dim with axis=0\n",
    "            x = preprocess_input(x)\n",
    "            preds = base_model.predict(x) \n",
    "            pre_id = decode_predictions(preds, top)[0]  \n",
    "    #             print(pre_id)\n",
    "            result = is_outlier(pre_id, ids_in_imagenet)\n",
    "            if result:\n",
    "                outliers.append(image_path)\n",
    "    #         print ('The image {:^15} : \\t {}'.format(afile, result))     \n",
    "    return outliers"
   ]
  },
  {
   "cell_type": "code",
   "execution_count": 22,
   "metadata": {},
   "outputs": [
    {
     "name": "stdout",
     "output_type": "stream",
     "text": [
      "The duration of outlier searching: 121.22953295707703, and 1 outliers are found\n"
     ]
    }
   ],
   "source": [
    "# find out outliers in cat images\n",
    "start= time.time()\n",
    "cat_outliers = find_outliers(cat_train_dir, imagenet_cat_ids, 130)\n",
    "end = time.time()\n",
    "print(\"The duration of outlier searching: {}, and {} outliers are found\".format(end-start, len(cat_outliers) ))\n"
   ]
  },
  {
   "cell_type": "code",
   "execution_count": 21,
   "metadata": {},
   "outputs": [
    {
     "name": "stdout",
     "output_type": "stream",
     "text": [
      "1\n"
     ]
    },
    {
     "data": {
      "image/png": "[encoded data removed]",
      "text/plain": [
       "<matplotlib.figure.Figure at 0x21628709898>"
      ]
     },
     "metadata": {},
     "output_type": "display_data"
    }
   ],
   "source": [
    "# display all outliers, observe if there is any fake outliers, if so, adjust the top value accordingly in function find_outliers()\n",
    "visual_images(cat_outliers, (500,500))   "
   ]
  },
  {
   "cell_type": "code",
   "execution_count": 23,
   "metadata": {},
   "outputs": [
    {
     "name": "stdout",
     "output_type": "stream",
     "text": [
      "The duration of outlier searching: 116.97860503196716, and 0 outliers are found\n"
     ]
    }
   ],
   "source": [
    "# find out outliers in dog images \n",
    "start= time.time()\n",
    "dog_outliers = find_outliers(dog_train_dir, imagenet_dog_ids, top=40)\n",
    "end = time.time()\n",
    "print(\"The duration of outlier searching: {}, and {} outliers are found\".format(end-start, len(dog_outliers) ))"
   ]
  },
  {
   "cell_type": "code",
   "execution_count": null,
   "metadata": {
    "collapsed": true
   },
   "outputs": [],
   "source": [
    "# display all outliers in dog images to see if there any fake outliers.\n",
    "visual_images(dog_outliers, (500,500))  "
   ]
  },
  {
   "cell_type": "code",
   "execution_count": null,
   "metadata": {
    "collapsed": true
   },
   "outputs": [],
   "source": [
    "# Remove the outliers\n"
   ]
  },
  {
   "cell_type": "markdown",
   "metadata": {},
   "source": [
    "## 创建训练集和验证集的Generator\n",
    "1. 训练集从cat，dog目录中生成图片生成器"
   ]
  },
  {
   "cell_type": "code",
   "execution_count": 24,
   "metadata": {},
   "outputs": [
    {
     "name": "stdout",
     "output_type": "stream",
     "text": [
      "Found 160 images belonging to 2 classes.\n",
      "Found 40 images belonging to 2 classes.\n"
     ]
    }
   ],
   "source": [
    "train_data_gen = ImageDataGenerator()\n",
    "val_data_gen = ImageDataGenerator()\n",
    "\n",
    "train_gen = train_data_gen.flow_from_directory(\n",
    "    train_dir,\n",
    "    target_size=(image_w, image_h),\n",
    "    batch_size=batch_size,\n",
    "    class_mode=\"binary\"\n",
    ")\n",
    "\n",
    "valid_gen = val_data_gen.flow_from_directory(\n",
    "    val_dir,\n",
    "    target_size=(image_w, image_h),\n",
    "    batch_size=batch_size,\n",
    "    class_mode=\"binary\"\n",
    ")\n"
   ]
  },
  {
   "cell_type": "markdown",
   "metadata": {},
   "source": [
    "## 定义网络架构"
   ]
  },
  {
   "cell_type": "code",
   "execution_count": 26,
   "metadata": {},
   "outputs": [],
   "source": [
    "def add_new_top_layers(base_model, nn_classes):\n",
    "    '''\n",
    "    create new layers onto a base model\n",
    "    '''\n",
    "    x = base_model.output\n",
    "    x = GlobalAveragePooling2D()(x)\n",
    "    x = Dense(1024, activation=\"relu\", name=\"my_fc1\")(x)\n",
    "    predictions = Dense(nn_classes, activation='softmax', name=\"my_output\")(x)\n",
    "    model = Model(inputs=base_model.input, outputs=predictions)\n",
    "    \n",
    "    return model"
   ]
  },
  {
   "cell_type": "code",
   "execution_count": 29,
   "metadata": {},
   "outputs": [],
   "source": [
    "base_model=Xception(weights='imagenet', include_top=False)\n",
    "model = add_new_top_layers(base_model, nn_classes)\n",
    "\n",
    "#freeze all layers of base model\n",
    "for layer in base_model.layers:\n",
    "    layer.trainable = False"
   ]
  },
  {
   "cell_type": "code",
   "execution_count": 30,
   "metadata": {},
   "outputs": [],
   "source": [
    "model.compile(optimizer=\"rmsprop\", loss=\"binary_crossentropy\", metrics=['accuracy'])\n",
    "# model.summary()"
   ]
  },
  {
   "cell_type": "code",
   "execution_count": 31,
   "metadata": {},
   "outputs": [
    {
     "name": "stdout",
     "output_type": "stream",
     "text": [
      "base_model layers: 132\n",
      "model layers: 135\n"
     ]
    }
   ],
   "source": [
    "print(\"base_model layers:\", len(base_model.layers))\n",
    "print(\"model layers:\", len(model.layers))\n",
    "# print(my_model.fit_generator(train_gen).__doc__)"
   ]
  },
  {
   "cell_type": "markdown",
   "metadata": {},
   "source": [
    "## 训练模型\n",
    "\n",
    "直接训练新层"
   ]
  },
  {
   "cell_type": "code",
   "execution_count": 32,
   "metadata": {},
   "outputs": [
    {
     "name": "stdout",
     "output_type": "stream",
     "text": [
      "Epoch 1/1\n",
      " - 224s - loss: 7.8118 - acc: 0.5100 - val_loss: 7.9712 - val_acc: 0.5000\n",
      "Trainning Time: 224.38235688209534\n"
     ]
    }
   ],
   "source": [
    "start= time.time()\n",
    "train1 = model.fit_generator(\n",
    "    train_gen,\n",
    "    steps_per_epoch=2,\n",
    "    epochs = 1,\n",
    "    verbose = 2,\n",
    "    validation_data=valid_gen,\n",
    "    validation_steps=2,   \n",
    ")\n",
    "end = time.time()\n",
    "print(\"Trainning Time:\", end-start)"
   ]
  },
  {
   "cell_type": "code",
   "execution_count": 33,
   "metadata": {},
   "outputs": [
    {
     "name": "stdout",
     "output_type": "stream",
     "text": [
      "[0.54999998708566034]\n"
     ]
    }
   ],
   "source": [
    "type(train1.history)\n",
    "print(train1.history['acc'])"
   ]
  },
  {
   "cell_type": "code",
   "execution_count": 34,
   "metadata": {},
   "outputs": [
    {
     "data": {
      "image/png": "[encoded data removed]",
      "text/plain": [
       "<matplotlib.figure.Figure at 0x21637c2aba8>"
      ]
     },
     "metadata": {},
     "output_type": "display_data"
    },
    {
     "data": {
      "image/png": "[encoded data removed]",
      "text/plain": [
       "<matplotlib.figure.Figure at 0x21637c37a58>"
      ]
     },
     "metadata": {},
     "output_type": "display_data"
    }
   ],
   "source": [
    "def plot_training(model):\n",
    "    train_acc = model.history['acc']\n",
    "    val_acc = model.history['val_acc']\n",
    "    train_loss = model.history['loss']\n",
    "    val_loss = model.history['val_loss']\n",
    "    epochs = range(len(train_acc))\n",
    "    \n",
    "    plt.plot(epochs, train_acc, 'r.')\n",
    "    plt.plot(epochs, val_acc, 'r.')\n",
    "    plt.title('accuary of Training and Val')\n",
    "    plt.figure()\n",
    "    plt.plot(epochs, train_loss, 'r.')\n",
    "    plt.plot(epochs, val_loss, 'r-')\n",
    "    plt.title('loss of Training and Val')\n",
    "    plt.show()\n",
    "\n",
    "plot_training(train1)"
   ]
  },
  {
   "cell_type": "markdown",
   "metadata": {},
   "source": [
    "## Fine-Tunning 模式2\n",
    "只冻结除base-model最后一个block层的其他所有层，训练最后一个block层及新层, 并使用低学习率来微调"
   ]
  },
  {
   "cell_type": "code",
   "execution_count": 35,
   "metadata": {
    "collapsed": true
   },
   "outputs": [],
   "source": [
    "NN_LAST_BLOCK_LAYERS = 126\n",
    "for layer in model.layers[:NN_LAST_BLOCK_LAYERS]:\n",
    "   layer.trainable = False\n",
    "for layer in model.layers[NN_LAST_BLOCK_LAYERS:]:\n",
    "   layer.trainable = True\n"
   ]
  },
  {
   "cell_type": "code",
   "execution_count": 37,
   "metadata": {},
   "outputs": [],
   "source": [
    "from keras.optimizers import SGD\n",
    "model.compile(optimizer=SGD(lr=0.0001, momentum=0.9), loss='binary_crossentropy') #0.9 means ten times optimize momentum"
   ]
  },
  {
   "cell_type": "code",
   "execution_count": 38,
   "metadata": {},
   "outputs": [
    {
     "name": "stdout",
     "output_type": "stream",
     "text": [
      "Epoch 1/1\n",
      " - 293s - loss: 8.4495 - val_loss: 7.9712\n",
      "Training spent: 293.85145330429077\n"
     ]
    }
   ],
   "source": [
    "# train the new model\n",
    "start= time.time()\n",
    "train2 = model.fit_generator(\n",
    "    train_gen,\n",
    "    steps_per_epoch=2,\n",
    "    epochs = 1,\n",
    "    verbose = 2,\n",
    "    validation_data=valid_gen,\n",
    "    validation_steps=2,  \n",
    ")\n",
    "\n",
    "end = time.time()\n",
    "print(\"Training spent:\", end-start)"
   ]
  },
  {
   "cell_type": "code",
   "execution_count": null,
   "metadata": {
    "collapsed": true
   },
   "outputs": [],
   "source": [
    "plot_training(train2) "
   ]
  },
  {
   "cell_type": "code",
   "execution_count": 81,
   "metadata": {},
   "outputs": [
    {
     "data": {
      "text/plain": [
       "array([4, 5])"
      ]
     },
     "execution_count": 81,
     "metadata": {},
     "output_type": "execute_result"
    }
   ],
   "source": [
    "a=np.array([1,2,3,4,5])\n",
    "a[:3]\n",
    "a[3:]"
   ]
  },
  {
   "cell_type": "markdown",
   "metadata": {},
   "source": [
    "## 参数优化各种研究方案\n",
    "可以考虑以下几种方案：\n",
    "1. Early Stopping: 训练集中使用earlystopping, 当验证准确率经过几轮后，不再提高，则可以尽早自动停止，防止进行更多不要的计算。\n",
    "2. 数据集扩增（Data augmentation）\n",
    "3. 正则化（Regularization）\n",
    "4. Dropout:\n",
    "5. ..."
   ]
  },
  {
   "cell_type": "code",
   "execution_count": null,
   "metadata": {
    "collapsed": true
   },
   "outputs": [],
   "source": [
    "import keras.callbacks  \n",
    "keras.callbacks.EarlyStopping(monitor='val_loss', patience=0, verbose=0, mode='auto')  "
   ]
  },
  {
   "cell_type": "markdown",
   "metadata": {},
   "source": [
    "## 预测"
   ]
  },
  {
   "cell_type": "code",
   "execution_count": 116,
   "metadata": {
    "collapsed": true
   },
   "outputs": [],
   "source": [
    "#Load a dataset\n",
    "img_path = 'test/122.jpg'\n",
    "img = image.load_img(img_path, target_size=(image_w,image_h))\n",
    "x = np.expand_dims(img, axis=0)\n",
    "\n"
   ]
  },
  {
   "cell_type": "code",
   "execution_count": 111,
   "metadata": {},
   "outputs": [
    {
     "name": "stdout",
     "output_type": "stream",
     "text": [
      "  C_CONTIGUOUS : True\n",
      "  F_CONTIGUOUS : False\n",
      "  OWNDATA : False\n",
      "  WRITEABLE : False\n",
      "  ALIGNED : True\n",
      "  WRITEBACKIFCOPY : False\n",
      "  UPDATEIFCOPY : False\n",
      "  C_CONTIGUOUS : True\n",
      "  F_CONTIGUOUS : False\n",
      "  OWNDATA : False\n",
      "  WRITEABLE : True\n",
      "  ALIGNED : True\n",
      "  WRITEBACKIFCOPY : False\n",
      "  UPDATEIFCOPY : False\n"
     ]
    }
   ],
   "source": [
    "print(x.flags)\n",
    "x.setflags(write=1)\n",
    "print(x.flags)"
   ]
  },
  {
   "cell_type": "code",
   "execution_count": 118,
   "metadata": {},
   "outputs": [
    {
     "name": "stdout",
     "output_type": "stream",
     "text": [
      "[[1.]]\n"
     ]
    }
   ],
   "source": []
  },
  {
   "cell_type": "code",
   "execution_count": 117,
   "metadata": {
    "collapsed": true
   },
   "outputs": [],
   "source": [
    " # I am not clear why need to expand the dim with axis=0\n",
    "# x = preprocess_input(x)\n",
    "preds = model.predict(x)\n",
    "print(preds)"
   ]
  },
  {
   "cell_type": "code",
   "execution_count": null,
   "metadata": {
    "collapsed": true
   },
   "outputs": [],
   "source": [
    "%debug"
   ]
  },
  {
   "cell_type": "code",
   "execution_count": null,
   "metadata": {
    "collapsed": true
   },
   "outputs": [],
   "source": [
    "l = [1,3,5,6]\n",
    "len(l)\n",
    "a =1\n",
    "if a=1:\n",
    "    print(\"ok\")"
   ]
  }
 ],
 "metadata": {
  "kernelspec": {
   "display_name": "Python 3",
   "language": "python",
   "name": "python3"
  },
  "language_info": {
   "codemirror_mode": {
    "name": "ipython",
    "version": 3
   },
   "file_extension": ".py",
   "mimetype": "text/x-python",
   "name": "python",
   "nbconvert_exporter": "python",
   "pygments_lexer": "ipython3",
   "version": "3.6.2"
  }
 },
 "nbformat": 4,
 "nbformat_minor": 2
}
